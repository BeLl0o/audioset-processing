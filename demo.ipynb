{
  "nbformat": 4,
  "nbformat_minor": 0,
  "metadata": {
    "kernelspec": {
      "display_name": "Python 2",
      "language": "python",
      "name": "python2"
    },
    "language_info": {
      "codemirror_mode": {
        "name": "ipython",
        "version": 2
      },
      "file_extension": ".py",
      "mimetype": "text/x-python",
      "name": "python",
      "nbconvert_exporter": "python",
      "pygments_lexer": "ipython2",
      "version": "2.7.6"
    },
    "colab": {
      "name": "demo.ipynb",
      "provenance": [],
      "toc_visible": true,
      "include_colab_link": true
    }
  },
  "cells": [
    {
      "cell_type": "markdown",
      "metadata": {
        "id": "view-in-github",
        "colab_type": "text"
      },
      "source": [
        "<a href=\"https://colab.research.google.com/github/aoifemcdonagh/audioset-processing/blob/master/demo.ipynb\" target=\"_parent\"><img src=\"https://colab.research.google.com/assets/colab-badge.svg\" alt=\"Open In Colab\"/></a>"
      ]
    },
    {
      "cell_type": "markdown",
      "metadata": {
        "id": "9o054Eu-5DDG"
      },
      "source": [
        "## Step 1: Setup\r\n",
        "2. clone repo"
      ]
    },
    {
      "cell_type": "code",
      "metadata": {
        "id": "PWpHs9zU4nat",
        "colab": {
          "base_uri": "https://localhost:8080/"
        },
        "outputId": "79f89ac3-ae13-4c2d-c83f-8d672aeac077"
      },
      "source": [
        "# clone repo with custom YOLO functions\r\n",
        "!git clone https://github.com/aoifemcdonagh/audioset-processing.git"
      ],
      "execution_count": 2,
      "outputs": [
        {
          "output_type": "stream",
          "text": [
            "Cloning into 'audioset-processing'...\n",
            "remote: Enumerating objects: 6, done.\u001b[K\n",
            "remote: Counting objects: 100% (6/6), done.\u001b[K\n",
            "remote: Compressing objects: 100% (6/6), done.\u001b[K\n",
            "remote: Total 163 (delta 1), reused 2 (delta 0), pack-reused 157\u001b[K\n",
            "Receiving objects: 100% (163/163), 12.82 MiB | 19.60 MiB/s, done.\n",
            "Resolving deltas: 100% (79/79), done.\n"
          ],
          "name": "stdout"
        }
      ]
    },
    {
      "cell_type": "code",
      "metadata": {
        "id": "fAn41Omta3WI"
      },
      "source": [
        "%cd audioset-processing/"
      ],
      "execution_count": null,
      "outputs": []
    },
    {
      "cell_type": "code",
      "metadata": {
        "id": "POygatY7avX-"
      },
      "source": [
        "!pip install -r requirements.txt"
      ],
      "execution_count": null,
      "outputs": []
    },
    {
      "cell_type": "code",
      "metadata": {
        "id": "9hayH8Ksat7O"
      },
      "source": [
        "!python3 procas.py download -c \"bird\""
      ],
      "execution_count": null,
      "outputs": []
    }
  ]
}