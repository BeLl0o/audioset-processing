{
  "nbformat": 4,
  "nbformat_minor": 0,
  "metadata": {
    "kernelspec": {
      "display_name": "Python 2",
      "language": "python",
      "name": "python2"
    },
    "language_info": {
      "codemirror_mode": {
        "name": "ipython",
        "version": 2
      },
      "file_extension": ".py",
      "mimetype": "text/x-python",
      "name": "python",
      "nbconvert_exporter": "python",
      "pygments_lexer": "ipython2",
      "version": "2.7.6"
    },
    "colab": {
      "name": "demo.ipynb",
      "provenance": []
    }
  },
  "cells": [
    {
      "cell_type": "markdown",
      "metadata": {
        "id": "9o054Eu-5DDG"
      },
      "source": [
        "## Step 1: Setup\r\n",
        "1. enable GPU runtime\r\n",
        "1. Verify CUDA version\r\n",
        "2. clone repo"
      ]
    },
    {
      "cell_type": "code",
      "metadata": {
        "id": "fjGq2_un6NCz",
        "colab": {
          "base_uri": "https://localhost:8080/"
        },
        "outputId": "cdadd36e-d4f5-4719-c6b8-b805c0015320"
      },
      "source": [
        "# verify CUDA version 10.1\r\n",
        "!/usr/local/cuda/bin/nvcc --version"
      ],
      "execution_count": null,
      "outputs": [
        {
          "output_type": "stream",
          "text": [
            "nvcc: NVIDIA (R) Cuda compiler driver\n",
            "Copyright (c) 2005-2020 NVIDIA Corporation\n",
            "Built on Wed_Jul_22_19:09:09_PDT_2020\n",
            "Cuda compilation tools, release 11.0, V11.0.221\n",
            "Build cuda_11.0_bu.TC445_37.28845127_0\n"
          ],
          "name": "stdout"
        }
      ]
    },
    {
      "cell_type": "code",
      "metadata": {
        "id": "PWpHs9zU4nat",
        "colab": {
          "base_uri": "https://localhost:8080/"
        },
        "outputId": "0d24281b-d990-4bc0-80f9-aa830147d9d1"
      },
      "source": [
        "# clone repo with custom YOLO functions\r\n",
        "!git clone https://github.com/aoifemcdonagh/audioset-processing.git"
      ],
      "execution_count": null,
      "outputs": [
        {
          "output_type": "stream",
          "text": [
            "Cloning into 'yolov4-custom-functions'...\n",
            "remote: Enumerating objects: 19, done.\u001b[K\n",
            "remote: Counting objects: 100% (19/19), done.\u001b[K\n",
            "remote: Compressing objects: 100% (15/15), done.\u001b[K\n",
            "^C\n"
          ],
          "name": "stdout"
        }
      ]
    }
  ]
}