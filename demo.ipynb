{
  "nbformat": 4,
  "nbformat_minor": 0,
  "metadata": {
    "kernelspec": {
      "display_name": "Python 2",
      "language": "python",
      "name": "python2"
    },
    "language_info": {
      "codemirror_mode": {
        "name": "ipython",
        "version": 2
      },
      "file_extension": ".py",
      "mimetype": "text/x-python",
      "name": "python",
      "nbconvert_exporter": "python",
      "pygments_lexer": "ipython2",
      "version": "2.7.6"
    },
    "colab": {
      "name": "demo.ipynb",
      "provenance": [],
      "toc_visible": true
    }
  },
  "cells": [
    {
      "cell_type": "markdown",
      "metadata": {
        "id": "9o054Eu-5DDG"
      },
      "source": [
        "## Step 1: Setup\r\n",
        "2. clone repo"
      ]
    },
    {
      "cell_type": "code",
      "metadata": {
        "id": "PWpHs9zU4nat",
        "colab": {
          "base_uri": "https://localhost:8080/"
        },
        "outputId": "7fc43693-4a2d-44f4-c55d-03b8dc2bee4b"
      },
      "source": [
        "# clone repo with custom YOLO functions\r\n",
        "!git clone https://github.com/aoifemcdonagh/audioset-processing.git"
      ],
      "execution_count": 1,
      "outputs": [
        {
          "output_type": "stream",
          "text": [
            "fatal: destination path 'audioset-processing' already exists and is not an empty directory.\n"
          ],
          "name": "stdout"
        }
      ]
    },
    {
      "cell_type": "code",
      "metadata": {
        "colab": {
          "base_uri": "https://localhost:8080/"
        },
        "id": "fAn41Omta3WI",
        "outputId": "ec7dead5-9170-4c33-8e18-996d4b0af13e"
      },
      "source": [
        "%cd audioset-processing/"
      ],
      "execution_count": 2,
      "outputs": [
        {
          "output_type": "stream",
          "text": [
            "/content/audioset-processing\n"
          ],
          "name": "stdout"
        }
      ]
    },
    {
      "cell_type": "code",
      "metadata": {
        "colab": {
          "base_uri": "https://localhost:8080/"
        },
        "id": "POygatY7avX-",
        "outputId": "982a1b94-06cf-458b-ab7a-36037b6170e6"
      },
      "source": [
        "!pip install -r requirements.txt"
      ],
      "execution_count": 3,
      "outputs": [
        {
          "output_type": "stream",
          "text": [
            "Requirement already satisfied: argparse in /usr/lib/python2.7 (from -r requirements.txt (line 1)) (1.2.1)\n",
            "\u001b[31mERROR: Could not find a version that satisfies the requirement shutil (from -r requirements.txt (line 2)) (from versions: none)\u001b[0m\n",
            "\u001b[31mERROR: No matching distribution found for shutil (from -r requirements.txt (line 2))\u001b[0m\n"
          ],
          "name": "stdout"
        }
      ]
    },
    {
      "cell_type": "code",
      "metadata": {
        "colab": {
          "base_uri": "https://localhost:8080/"
        },
        "id": "9hayH8Ksat7O",
        "outputId": "7fa0a775-8eb9-49e7-fa33-94a9160106a0"
      },
      "source": [
        "!python3 process.py download -c \"bird\""
      ],
      "execution_count": 4,
      "outputs": [
        {
          "output_type": "stream",
          "text": [
            "python3: can't open file 'process.py': [Errno 2] No such file or directory\n"
          ],
          "name": "stdout"
        }
      ]
    }
  ]
}